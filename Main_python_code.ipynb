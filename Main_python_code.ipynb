{
  "nbformat": 4,
  "nbformat_minor": 0,
  "metadata": {
    "colab": {
      "name": "Main_python_code.ipynb",
      "provenance": [],
      "authorship_tag": "ABX9TyPnddkqwIjrk9yDRxrNGFzg",
      "include_colab_link": true
    },
    "kernelspec": {
      "name": "python3",
      "display_name": "Python 3"
    },
    "language_info": {
      "name": "python"
    }
  },
  "cells": [
    {
      "cell_type": "markdown",
      "metadata": {
        "id": "view-in-github",
        "colab_type": "text"
      },
      "source": [
        "<a href=\"https://colab.research.google.com/github/VorobyvEgor/Sber_school/blob/Main_python/Main_python_code.ipynb\" target=\"_parent\"><img src=\"https://colab.research.google.com/assets/colab-badge.svg\" alt=\"Open In Colab\"/></a>"
      ]
    },
    {
      "cell_type": "markdown",
      "metadata": {
        "id": "cKwtEYtOxe_7"
      },
      "source": [
        "## **В данном ноутбуке будет писаться код из теории и задания по корсу \"Основы Python\"**"
      ]
    },
    {
      "cell_type": "code",
      "metadata": {
        "colab": {
          "base_uri": "https://localhost:8080/"
        },
        "id": "kD6cfWfvruFS",
        "outputId": "c87d6b90-2f51-467f-cbee-b0ca1963d3c4"
      },
      "source": [
        "null_variable = None \n",
        "not_null_variable = 'something' \n",
        "if null_variable == None: \n",
        "    print('null_variable is None') \n",
        "else: \n",
        "    print('null_variable is not None') \n",
        "if not_null_variable == None: \n",
        "    print('not_null_variable is None') \n",
        "else: \n",
        "    print('not_null_variable is not None')"
      ],
      "execution_count": null,
      "outputs": [
        {
          "output_type": "stream",
          "name": "stdout",
          "text": [
            "null_variable is None\n",
            "not_null_variable is not None\n"
          ]
        }
      ]
    },
    {
      "cell_type": "code",
      "metadata": {
        "colab": {
          "base_uri": "https://localhost:8080/"
        },
        "id": "Fj377oHcxLiP",
        "outputId": "bf991aa0-9cb0-43a7-f374-c4a04ebab3db"
      },
      "source": [
        "a = 0\n",
        "b = 0\n",
        "print(a < b)\n",
        "print(a > b)\n",
        "print(a == b)"
      ],
      "execution_count": null,
      "outputs": [
        {
          "output_type": "stream",
          "name": "stdout",
          "text": [
            "False\n",
            "False\n",
            "True\n"
          ]
        }
      ]
    },
    {
      "cell_type": "markdown",
      "metadata": {
        "id": "L2Ms3XA7xb-A"
      },
      "source": [
        "### Задание 1\n",
        "Используя функцию type(), попробуйте выполнить следующие операции и посмотрите что выведется на экран:\n",
        "\n",
        "\n",
        "\n",
        "*   type(None)\n",
        "*   type(True)\n",
        "*   type(False)\n",
        "*   type(1)\n",
        "*   type(5.3)\n",
        "*   type(5 + 4j)\n",
        "*   type([1, 5.3, False, 4])\n",
        "*   type((1, True, 3, 5+4j))\n",
        "*   type(range(5))\n",
        "*   type('Hello')\n",
        "*   type(b'a')\n",
        "*   type(bytearray([1,2,3]))\n",
        "*   type(memoryview(bytearray('XYZ', 'utf-8')))\n",
        "*   type({'a', 3, True})\n",
        "*   type(frozenset({1, 2, 3}))\n",
        "*   type({'a' : 32})\n",
        "\n",
        "\n",
        "\n",
        "\n",
        "\n",
        "\n",
        "\n",
        "\n",
        "\n",
        "\n",
        "\n",
        "\n",
        "\n",
        "\n",
        "\n",
        "\n",
        "\n",
        "\n",
        "\n",
        "\n",
        "\n",
        "\n",
        "."
      ]
    },
    {
      "cell_type": "code",
      "metadata": {
        "colab": {
          "base_uri": "https://localhost:8080/"
        },
        "id": "6cUnQjCxy19u",
        "outputId": "1862c4c7-d028-43aa-9ac2-de1d532bd8ad"
      },
      "source": [
        "type(None)"
      ],
      "execution_count": null,
      "outputs": [
        {
          "output_type": "execute_result",
          "data": {
            "text/plain": [
              "NoneType"
            ]
          },
          "metadata": {},
          "execution_count": 4
        }
      ]
    },
    {
      "cell_type": "code",
      "metadata": {
        "colab": {
          "base_uri": "https://localhost:8080/"
        },
        "id": "dj3aerMezDIX",
        "outputId": "c92e20e5-dbd7-4be7-deab-f8259e173963"
      },
      "source": [
        "type(True)"
      ],
      "execution_count": null,
      "outputs": [
        {
          "output_type": "execute_result",
          "data": {
            "text/plain": [
              "bool"
            ]
          },
          "metadata": {},
          "execution_count": 5
        }
      ]
    },
    {
      "cell_type": "code",
      "metadata": {
        "colab": {
          "base_uri": "https://localhost:8080/"
        },
        "id": "KBKJqhiFzu8k",
        "outputId": "0fe68a29-36c9-4b93-b01c-a32e4bbc2c97"
      },
      "source": [
        "type(False)"
      ],
      "execution_count": null,
      "outputs": [
        {
          "output_type": "execute_result",
          "data": {
            "text/plain": [
              "bool"
            ]
          },
          "metadata": {},
          "execution_count": 6
        }
      ]
    },
    {
      "cell_type": "code",
      "metadata": {
        "colab": {
          "base_uri": "https://localhost:8080/"
        },
        "id": "8Lzfk04ZzymE",
        "outputId": "3eb806e9-e160-4951-9cb9-34603f367fee"
      },
      "source": [
        "type(1)"
      ],
      "execution_count": null,
      "outputs": [
        {
          "output_type": "execute_result",
          "data": {
            "text/plain": [
              "int"
            ]
          },
          "metadata": {},
          "execution_count": 7
        }
      ]
    },
    {
      "cell_type": "code",
      "metadata": {
        "colab": {
          "base_uri": "https://localhost:8080/"
        },
        "id": "YSnSramfz1IT",
        "outputId": "ee16cd69-305e-4758-e6b9-c6b23b869989"
      },
      "source": [
        "type(5.3)"
      ],
      "execution_count": null,
      "outputs": [
        {
          "output_type": "execute_result",
          "data": {
            "text/plain": [
              "float"
            ]
          },
          "metadata": {},
          "execution_count": 8
        }
      ]
    },
    {
      "cell_type": "code",
      "metadata": {
        "colab": {
          "base_uri": "https://localhost:8080/"
        },
        "id": "o0lgFo9Uz2lK",
        "outputId": "389a75f2-1527-4e53-f005-70d37fe1edd0"
      },
      "source": [
        "type(5 + 4j)"
      ],
      "execution_count": null,
      "outputs": [
        {
          "output_type": "execute_result",
          "data": {
            "text/plain": [
              "complex"
            ]
          },
          "metadata": {},
          "execution_count": 9
        }
      ]
    },
    {
      "cell_type": "code",
      "metadata": {
        "colab": {
          "base_uri": "https://localhost:8080/"
        },
        "id": "L01I0Wduz4tj",
        "outputId": "de8091c9-b972-404a-b9a2-66098df3bd52"
      },
      "source": [
        "type([1, 5.3, False, 4])"
      ],
      "execution_count": null,
      "outputs": [
        {
          "output_type": "execute_result",
          "data": {
            "text/plain": [
              "list"
            ]
          },
          "metadata": {},
          "execution_count": 10
        }
      ]
    },
    {
      "cell_type": "code",
      "metadata": {
        "colab": {
          "base_uri": "https://localhost:8080/"
        },
        "id": "WHoBOungz6c-",
        "outputId": "9e77fd79-d471-44db-f0ae-2f0ea9407329"
      },
      "source": [
        "type((1, True, 3, 5+4j))"
      ],
      "execution_count": null,
      "outputs": [
        {
          "output_type": "execute_result",
          "data": {
            "text/plain": [
              "tuple"
            ]
          },
          "metadata": {},
          "execution_count": 11
        }
      ]
    },
    {
      "cell_type": "code",
      "metadata": {
        "colab": {
          "base_uri": "https://localhost:8080/"
        },
        "id": "nVuIFktdz8jw",
        "outputId": "4cac391e-b215-4415-afa5-8beb38e61f1a"
      },
      "source": [
        "type(range(5))"
      ],
      "execution_count": null,
      "outputs": [
        {
          "output_type": "execute_result",
          "data": {
            "text/plain": [
              "range"
            ]
          },
          "metadata": {},
          "execution_count": 12
        }
      ]
    },
    {
      "cell_type": "code",
      "metadata": {
        "colab": {
          "base_uri": "https://localhost:8080/"
        },
        "id": "vpC98s2bz-SD",
        "outputId": "68425c08-8948-42ac-b45d-51c0285727c0"
      },
      "source": [
        "type('Hello')"
      ],
      "execution_count": null,
      "outputs": [
        {
          "output_type": "execute_result",
          "data": {
            "text/plain": [
              "str"
            ]
          },
          "metadata": {},
          "execution_count": 13
        }
      ]
    },
    {
      "cell_type": "code",
      "metadata": {
        "colab": {
          "base_uri": "https://localhost:8080/"
        },
        "id": "bEmsWyGaz_tb",
        "outputId": "f679c29c-7699-4839-825a-103d164ec780"
      },
      "source": [
        "type(b'a')"
      ],
      "execution_count": null,
      "outputs": [
        {
          "output_type": "execute_result",
          "data": {
            "text/plain": [
              "bytes"
            ]
          },
          "metadata": {},
          "execution_count": 14
        }
      ]
    },
    {
      "cell_type": "code",
      "metadata": {
        "colab": {
          "base_uri": "https://localhost:8080/"
        },
        "id": "5ATqvSrX0Boz",
        "outputId": "09464794-9ac5-4fae-8f48-24abf56bb960"
      },
      "source": [
        "type(bytearray([1,2,3]))"
      ],
      "execution_count": null,
      "outputs": [
        {
          "output_type": "execute_result",
          "data": {
            "text/plain": [
              "bytearray"
            ]
          },
          "metadata": {},
          "execution_count": 15
        }
      ]
    },
    {
      "cell_type": "code",
      "metadata": {
        "colab": {
          "base_uri": "https://localhost:8080/"
        },
        "id": "JkTj1X9M0Daq",
        "outputId": "768fac39-a5d0-440d-add0-f18aeaf98677"
      },
      "source": [
        "type(memoryview(bytearray('XYZ', 'utf-8')))"
      ],
      "execution_count": null,
      "outputs": [
        {
          "output_type": "execute_result",
          "data": {
            "text/plain": [
              "memoryview"
            ]
          },
          "metadata": {},
          "execution_count": 16
        }
      ]
    },
    {
      "cell_type": "code",
      "metadata": {
        "colab": {
          "base_uri": "https://localhost:8080/"
        },
        "id": "fOiqRB0B0Fii",
        "outputId": "157953cf-bba8-4eb4-f489-ffb09eabc0a5"
      },
      "source": [
        "type({'a', 3, True})"
      ],
      "execution_count": null,
      "outputs": [
        {
          "output_type": "execute_result",
          "data": {
            "text/plain": [
              "set"
            ]
          },
          "metadata": {},
          "execution_count": 17
        }
      ]
    },
    {
      "cell_type": "code",
      "metadata": {
        "colab": {
          "base_uri": "https://localhost:8080/"
        },
        "id": "KX8iwfHp0HeT",
        "outputId": "044f0438-694b-49bb-90ee-fd57056b0db0"
      },
      "source": [
        "type(frozenset({1, 2, 3}))"
      ],
      "execution_count": null,
      "outputs": [
        {
          "output_type": "execute_result",
          "data": {
            "text/plain": [
              "frozenset"
            ]
          },
          "metadata": {},
          "execution_count": 18
        }
      ]
    },
    {
      "cell_type": "code",
      "metadata": {
        "colab": {
          "base_uri": "https://localhost:8080/"
        },
        "id": "rZAYlWsg0KcC",
        "outputId": "a07b9699-d28d-4d70-c378-0f42436c3a2e"
      },
      "source": [
        "type({'a' : 32})"
      ],
      "execution_count": null,
      "outputs": [
        {
          "output_type": "execute_result",
          "data": {
            "text/plain": [
              "dict"
            ]
          },
          "metadata": {},
          "execution_count": 19
        }
      ]
    },
    {
      "cell_type": "markdown",
      "metadata": {
        "id": "fnTmSlZe0wYm"
      },
      "source": [
        "### Задание 1\n",
        "Мы предлагаем вам потренироваться c логическими и побитовыми операторами. Ниже будут приведены выражения и ответы к ним. Попробуйте мысленно или на бумаге решить эти выражения и затем проверить себя, посмотрев правильный ответ. Задания будут располагаться по нарастающей от простого к сложному. Удачи!\n",
        "\n",
        " \n",
        "\n",
        "Для:\n",
        "\n",
        "a = True\n",
        "\n",
        "b = False\n",
        "\n",
        " \n",
        "\n",
        "Решите:\n",
        "\n",
        "1. a and b\n",
        "\n",
        "2. (a and b) or b\n",
        "\n",
        "3. (a and b) or not (a and b)\n",
        "\n",
        "4. a and b or not (a or b) or b\n",
        "\n",
        "5. b and b or not a and (a or b or a) or not (a or b)\n",
        "\n",
        "6. 1 << 2\n",
        "\n",
        "7. 1 & 0 | 1 >> 1\n",
        "\n",
        "8. 1 & 0 | 1 >> 0\n",
        "\n",
        "9. 0b101 & 0b111 ^ 0b111 | 0b010  Комментарий: \"0b101\" - запись числа \"5\" на языке Python в двоичном виде "
      ]
    },
    {
      "cell_type": "code",
      "metadata": {
        "id": "U1S0Lf8F0yOM"
      },
      "source": [
        "a = True\n",
        "b = False"
      ],
      "execution_count": null,
      "outputs": []
    },
    {
      "cell_type": "code",
      "metadata": {
        "colab": {
          "base_uri": "https://localhost:8080/"
        },
        "id": "JVffmNh-019h",
        "outputId": "3b4eae34-0152-4a3a-db52-5bfca18e1639"
      },
      "source": [
        "a and b"
      ],
      "execution_count": null,
      "outputs": [
        {
          "output_type": "execute_result",
          "data": {
            "text/plain": [
              "False"
            ]
          },
          "metadata": {},
          "execution_count": 21
        }
      ]
    },
    {
      "cell_type": "code",
      "metadata": {
        "colab": {
          "base_uri": "https://localhost:8080/"
        },
        "id": "-KYz1W_l1Gvh",
        "outputId": "4878a6ec-1612-49d3-8fcb-4d7e61753cc4"
      },
      "source": [
        "(a and b) or b"
      ],
      "execution_count": null,
      "outputs": [
        {
          "output_type": "execute_result",
          "data": {
            "text/plain": [
              "False"
            ]
          },
          "metadata": {},
          "execution_count": 22
        }
      ]
    },
    {
      "cell_type": "code",
      "metadata": {
        "colab": {
          "base_uri": "https://localhost:8080/"
        },
        "id": "WyuwdXWG1KFh",
        "outputId": "e0920dae-b91a-45b3-e47b-bcbb00ca2ff1"
      },
      "source": [
        "(a and b) or not (a and b)"
      ],
      "execution_count": null,
      "outputs": [
        {
          "output_type": "execute_result",
          "data": {
            "text/plain": [
              "True"
            ]
          },
          "metadata": {},
          "execution_count": 23
        }
      ]
    },
    {
      "cell_type": "code",
      "metadata": {
        "colab": {
          "base_uri": "https://localhost:8080/"
        },
        "id": "smusEdyR1MSR",
        "outputId": "c2704e05-7bf6-44f4-8aac-7a81acafc791"
      },
      "source": [
        "a and b or not (a or b) or b"
      ],
      "execution_count": null,
      "outputs": [
        {
          "output_type": "execute_result",
          "data": {
            "text/plain": [
              "False"
            ]
          },
          "metadata": {},
          "execution_count": 24
        }
      ]
    },
    {
      "cell_type": "code",
      "metadata": {
        "colab": {
          "base_uri": "https://localhost:8080/"
        },
        "id": "IQ23ZheO1S0o",
        "outputId": "ddd6476c-0971-4295-cc28-d10a7253a7d8"
      },
      "source": [
        "1 << 2"
      ],
      "execution_count": null,
      "outputs": [
        {
          "output_type": "execute_result",
          "data": {
            "text/plain": [
              "4"
            ]
          },
          "metadata": {},
          "execution_count": 25
        }
      ]
    },
    {
      "cell_type": "code",
      "metadata": {
        "colab": {
          "base_uri": "https://localhost:8080/"
        },
        "id": "FJAaD_up1YcQ",
        "outputId": "88a38f15-75cc-44a3-b201-20fd3e403f87"
      },
      "source": [
        "1 & 0 | 1 >> 1"
      ],
      "execution_count": null,
      "outputs": [
        {
          "output_type": "execute_result",
          "data": {
            "text/plain": [
              "0"
            ]
          },
          "metadata": {},
          "execution_count": 26
        }
      ]
    },
    {
      "cell_type": "code",
      "metadata": {
        "colab": {
          "base_uri": "https://localhost:8080/"
        },
        "id": "TSlhrwV31muy",
        "outputId": "49fa8945-6bc6-4215-ddba-6af5b963923a"
      },
      "source": [
        "1 & 0 | 1 >> 0"
      ],
      "execution_count": null,
      "outputs": [
        {
          "output_type": "execute_result",
          "data": {
            "text/plain": [
              "1"
            ]
          },
          "metadata": {},
          "execution_count": 27
        }
      ]
    },
    {
      "cell_type": "code",
      "metadata": {
        "colab": {
          "base_uri": "https://localhost:8080/"
        },
        "id": "slTdBuXK1o2p",
        "outputId": "df1c9f28-a8ab-43cc-8958-bb5508d601de"
      },
      "source": [
        "0b101 & 0b111 ^ 0b111 | 0b010 "
      ],
      "execution_count": null,
      "outputs": [
        {
          "output_type": "execute_result",
          "data": {
            "text/plain": [
              "2"
            ]
          },
          "metadata": {},
          "execution_count": 28
        }
      ]
    },
    {
      "cell_type": "markdown",
      "metadata": {
        "id": "zvNPyV194A3K"
      },
      "source": [
        "# Условные операторы\n"
      ]
    },
    {
      "cell_type": "markdown",
      "metadata": {
        "id": "WKMd1qg_4NVS"
      },
      "source": [
        "### Задание 1\n",
        "Даны два целых числа. Выведите значение наименьшего из них."
      ]
    },
    {
      "cell_type": "code",
      "metadata": {
        "colab": {
          "base_uri": "https://localhost:8080/"
        },
        "id": "Xsw9Ro5B1wdA",
        "outputId": "be55d620-f81d-4750-d246-b002503c02b5"
      },
      "source": [
        "a = int(input())\n",
        "b = int(input())\n",
        "if a < b:\n",
        "  print(a)\n",
        "else:\n",
        "  print(b)"
      ],
      "execution_count": null,
      "outputs": [
        {
          "output_type": "stream",
          "name": "stdout",
          "text": [
            "5\n",
            "6\n",
            "5\n"
          ]
        }
      ]
    },
    {
      "cell_type": "code",
      "metadata": {
        "colab": {
          "base_uri": "https://localhost:8080/"
        },
        "id": "ncQiUDJC4YLO",
        "outputId": "113b70d7-99e2-429a-8cdd-1624cae40e4b"
      },
      "source": [
        "min(a, b)"
      ],
      "execution_count": null,
      "outputs": [
        {
          "output_type": "execute_result",
          "data": {
            "text/plain": [
              "5"
            ]
          },
          "metadata": {},
          "execution_count": 30
        }
      ]
    },
    {
      "cell_type": "markdown",
      "metadata": {
        "id": "uwr3-XRp45Gw"
      },
      "source": [
        "### Задание 2\n",
        "Даны три целых числа. Выведите значение наименьшего из них."
      ]
    },
    {
      "cell_type": "code",
      "metadata": {
        "colab": {
          "base_uri": "https://localhost:8080/"
        },
        "id": "GQCmZEKA4tD9",
        "outputId": "4b358d81-988f-4af2-c89b-35ee22b24156"
      },
      "source": [
        "a = int(input())\n",
        "b = int(input())\n",
        "c = int(input())\n",
        "if (a < b) and (a < c):\n",
        "  print(a)\n",
        "elif (b < a) and (b < c):\n",
        "  print(b)\n",
        "else:\n",
        "  print(c)"
      ],
      "execution_count": null,
      "outputs": [
        {
          "output_type": "stream",
          "name": "stdout",
          "text": [
            "5\n",
            "7\n",
            "10\n",
            "5\n"
          ]
        }
      ]
    },
    {
      "cell_type": "code",
      "metadata": {
        "colab": {
          "base_uri": "https://localhost:8080/"
        },
        "id": "SzabBaM15R4W",
        "outputId": "cc526652-485e-438b-86ec-03c8b190d72d"
      },
      "source": [
        "min(a, b, c)"
      ],
      "execution_count": null,
      "outputs": [
        {
          "output_type": "execute_result",
          "data": {
            "text/plain": [
              "5"
            ]
          },
          "metadata": {},
          "execution_count": 32
        }
      ]
    },
    {
      "cell_type": "markdown",
      "metadata": {
        "id": "aEr8uIBx5hL0"
      },
      "source": [
        "### Задание 3\n",
        "Даны три целых числа. Определите, сколько среди них совпадающих. Программа должна вывести одно из чисел: 3 (если все совпадают), 2 (если два совпадает) или 0 (если все числа различны)."
      ]
    },
    {
      "cell_type": "code",
      "metadata": {
        "colab": {
          "base_uri": "https://localhost:8080/"
        },
        "id": "I9DlGvCv5Wk-",
        "outputId": "103bd695-7af6-4380-fe04-7f4b7cc41d42"
      },
      "source": [
        "a = int(input())\n",
        "b = int(input())\n",
        "c = int(input())\n",
        "if (a == b) and (a == c):\n",
        "  print(3)\n",
        "elif (a == b) or (a == c) or (b == c):\n",
        "  print(2)\n",
        "else:\n",
        "  print(0)"
      ],
      "execution_count": null,
      "outputs": [
        {
          "output_type": "stream",
          "name": "stdout",
          "text": [
            "5\n",
            "6\n",
            "6\n",
            "2\n"
          ]
        }
      ]
    },
    {
      "cell_type": "markdown",
      "metadata": {
        "id": "ZMV66xYL8h44"
      },
      "source": [
        "# Циклы"
      ]
    },
    {
      "cell_type": "code",
      "metadata": {
        "colab": {
          "base_uri": "https://localhost:8080/"
        },
        "id": "MSFut4IV6A5_",
        "outputId": "4c35c0b1-d55b-4d1e-947c-35f866a8a379"
      },
      "source": [
        "# создаем переменную, равную 1\n",
        "var = 1\n",
        "# прописываем цикл с условием - выполнять до тех пор, пока переменная\n",
        "# меньше или равна 13\n",
        "while var <= 13:\n",
        "# выводим значение переменной\n",
        "    print(var)\n",
        "# увеличиваем переменную на 1\n",
        "    var += 1\n"
      ],
      "execution_count": null,
      "outputs": [
        {
          "output_type": "stream",
          "name": "stdout",
          "text": [
            "1\n",
            "2\n",
            "3\n",
            "4\n",
            "5\n",
            "6\n",
            "7\n",
            "8\n",
            "9\n",
            "10\n",
            "11\n",
            "12\n",
            "13\n"
          ]
        }
      ]
    },
    {
      "cell_type": "code",
      "metadata": {
        "colab": {
          "base_uri": "https://localhost:8080/"
        },
        "id": "FRGmSeyj8qmV",
        "outputId": "753495d0-34c7-4ec0-b277-d700aff39092"
      },
      "source": [
        "for i in [1, 2, 3, 4, 5 ,6 ,7 ,8 ,9 , 10, 11, 12, 13]:\n",
        "    print(i)"
      ],
      "execution_count": null,
      "outputs": [
        {
          "output_type": "stream",
          "name": "stdout",
          "text": [
            "1\n",
            "2\n",
            "3\n",
            "4\n",
            "5\n",
            "6\n",
            "7\n",
            "8\n",
            "9\n",
            "10\n",
            "11\n",
            "12\n",
            "13\n"
          ]
        }
      ]
    },
    {
      "cell_type": "code",
      "metadata": {
        "colab": {
          "base_uri": "https://localhost:8080/"
        },
        "id": "cd0sd-ZW84q6",
        "outputId": "3f2903aa-c920-42e3-f62f-5a6883fbac87"
      },
      "source": [
        "for i in range(1,14):\n",
        "    print(i)"
      ],
      "execution_count": null,
      "outputs": [
        {
          "output_type": "stream",
          "name": "stdout",
          "text": [
            "1\n",
            "2\n",
            "3\n",
            "4\n",
            "5\n",
            "6\n",
            "7\n",
            "8\n",
            "9\n",
            "10\n",
            "11\n",
            "12\n",
            "13\n"
          ]
        }
      ]
    },
    {
      "cell_type": "code",
      "metadata": {
        "colab": {
          "base_uri": "https://localhost:8080/"
        },
        "id": "JdOqAyWR9L4A",
        "outputId": "10598822-32da-4fcc-b019-2b3a642f9544"
      },
      "source": [
        "for i in range(1,14):\n",
        "    print(i, end=' ')"
      ],
      "execution_count": null,
      "outputs": [
        {
          "output_type": "stream",
          "name": "stdout",
          "text": [
            "1 2 3 4 5 6 7 8 9 10 11 12 13 "
          ]
        }
      ]
    },
    {
      "cell_type": "code",
      "metadata": {
        "colab": {
          "base_uri": "https://localhost:8080/"
        },
        "id": "GSI7kmTt9T2Q",
        "outputId": "cad7833a-4861-417c-fbf1-091c98c62db7"
      },
      "source": [
        "for var in 'Python':\n",
        "    if var == 'h':\n",
        "        continue\n",
        "    print(var)"
      ],
      "execution_count": null,
      "outputs": [
        {
          "output_type": "stream",
          "name": "stdout",
          "text": [
            "P\n",
            "y\n",
            "t\n",
            "o\n",
            "n\n"
          ]
        }
      ]
    },
    {
      "cell_type": "code",
      "metadata": {
        "colab": {
          "base_uri": "https://localhost:8080/"
        },
        "id": "lDVwrM7Y9hNX",
        "outputId": "c9d4d21e-6689-4518-f174-b8848bd748a5"
      },
      "source": [
        "for var in 'Python':\n",
        "    if var == 'h':\n",
        "        break\n",
        "    print(var)"
      ],
      "execution_count": null,
      "outputs": [
        {
          "output_type": "stream",
          "name": "stdout",
          "text": [
            "P\n",
            "y\n",
            "t\n"
          ]
        }
      ]
    },
    {
      "cell_type": "code",
      "metadata": {
        "colab": {
          "base_uri": "https://localhost:8080/"
        },
        "id": "gCHhJoE79lvA",
        "outputId": "48050cfc-2584-44f5-db47-79e95dda0752"
      },
      "source": [
        "for var in 'Python':\n",
        "    if var == 'a':\n",
        "        break \n",
        "else:\n",
        "    print('Символа a нет в слове Python')"
      ],
      "execution_count": null,
      "outputs": [
        {
          "output_type": "stream",
          "name": "stdout",
          "text": [
            "Символа a нет в слове Python\n"
          ]
        }
      ]
    },
    {
      "cell_type": "markdown",
      "metadata": {
        "id": "S_kEpu6V9548"
      },
      "source": [
        "### Задание 1\n",
        "\n",
        "\n",
        "\n",
        "Задан массив из 10 чисел. Напишите программу, которая выводит их сумму."
      ]
    },
    {
      "cell_type": "code",
      "metadata": {
        "colab": {
          "base_uri": "https://localhost:8080/"
        },
        "id": "f7cjs4bp9t5Y",
        "outputId": "c4ee4e2f-cc6b-42e3-8e7b-7716e694e028"
      },
      "source": [
        "sum_num = 0\n",
        "for i in range(0, 10):\n",
        "  sum_num += i\n",
        "print(sum_num)"
      ],
      "execution_count": null,
      "outputs": [
        {
          "output_type": "stream",
          "name": "stdout",
          "text": [
            "45\n"
          ]
        }
      ]
    },
    {
      "cell_type": "code",
      "metadata": {
        "colab": {
          "base_uri": "https://localhost:8080/"
        },
        "id": "jZi40K9o-Pe-",
        "outputId": "dbba63d4-5c64-4b61-dfdd-ea68ef9b854b"
      },
      "source": [
        "a = [int(i) for i in input().split()]\n",
        "print(a)\n",
        "sum(a)"
      ],
      "execution_count": null,
      "outputs": [
        {
          "output_type": "stream",
          "name": "stdout",
          "text": [
            "5 8 7\n",
            "[5, 8, 7]\n"
          ]
        },
        {
          "output_type": "execute_result",
          "data": {
            "text/plain": [
              "20"
            ]
          },
          "metadata": {},
          "execution_count": 43
        }
      ]
    },
    {
      "cell_type": "markdown",
      "metadata": {
        "id": "QZmuY0vx9JxQ"
      },
      "source": [
        "## Задание 2\n",
        "Задан массив из n чисел. Напишите программу, которая считает и выводит количество чисел равных нулю."
      ]
    },
    {
      "cell_type": "code",
      "metadata": {
        "colab": {
          "base_uri": "https://localhost:8080/"
        },
        "id": "jro1ymoU82-w",
        "outputId": "99a6ced2-2f7c-488c-e92d-423ee887ca1f"
      },
      "source": [
        "n = int(input())\n",
        "a = [int(input()) for i in range(0, n)]\n",
        "n_zero = 0\n",
        "for i in a:\n",
        "  if i == 0:\n",
        "    n_zero += 1\n",
        "n_zero"
      ],
      "execution_count": null,
      "outputs": [
        {
          "name": "stdout",
          "output_type": "stream",
          "text": [
            "6\n",
            "5\n",
            "4\n",
            "0\n",
            "2\n",
            "0\n",
            "1\n"
          ]
        },
        {
          "output_type": "execute_result",
          "data": {
            "text/plain": [
              "2"
            ]
          },
          "metadata": {},
          "execution_count": 44
        }
      ]
    },
    {
      "cell_type": "code",
      "metadata": {
        "colab": {
          "base_uri": "https://localhost:8080/"
        },
        "id": "XAyG2LBy9viO",
        "outputId": "21b01433-a044-42c3-aab0-effe4cbc1314"
      },
      "source": [
        "a.count(0)"
      ],
      "execution_count": null,
      "outputs": [
        {
          "output_type": "execute_result",
          "data": {
            "text/plain": [
              "2"
            ]
          },
          "metadata": {},
          "execution_count": 46
        }
      ]
    },
    {
      "cell_type": "markdown",
      "metadata": {
        "id": "rnJH5pnY-Z88"
      },
      "source": [
        "## Задание 3\n",
        "По данному натуральному n ≤ 9 выведите лесенку из n ступенек, i-я ступенька состоит из чисел от 1 до i без пробелов."
      ]
    },
    {
      "cell_type": "code",
      "metadata": {
        "colab": {
          "base_uri": "https://localhost:8080/"
        },
        "id": "jHlM8igR954F",
        "outputId": "2c30ba5b-a9bf-46b4-bdb3-50a933a98e56"
      },
      "source": [
        "n = int(input())\n",
        "s = ''\n",
        "for i in range(1, n+1):\n",
        "  s += str(i)\n",
        "  print(s)"
      ],
      "execution_count": null,
      "outputs": [
        {
          "output_type": "stream",
          "name": "stdout",
          "text": [
            "9\n",
            "1\n",
            "12\n",
            "123\n",
            "1234\n",
            "12345\n",
            "123456\n",
            "1234567\n",
            "12345678\n",
            "123456789\n"
          ]
        }
      ]
    },
    {
      "cell_type": "markdown",
      "metadata": {
        "id": "VtH2irWg_T58"
      },
      "source": [
        "## Задание 4\n",
        "Дополните код из предыдущего задания, чтобы теперь получалась пирамида. То есть каждая ступень состоит из чисел от 1 до i и обратно."
      ]
    },
    {
      "cell_type": "code",
      "metadata": {
        "colab": {
          "base_uri": "https://localhost:8080/"
        },
        "id": "ogy5PzVF-1R8",
        "outputId": "9e4bef3f-76a9-441d-8029-73d11f4a7d29"
      },
      "source": [
        "n = int(input())\n",
        "s = ''\n",
        "for i in range(1, n+1):\n",
        "  s += str(i)\n",
        "  print(' ' * (n - i) + s[:-1] + s[::-1] + ' ' * (n - i))"
      ],
      "execution_count": null,
      "outputs": [
        {
          "output_type": "stream",
          "name": "stdout",
          "text": [
            "9\n",
            "        1        \n",
            "       121       \n",
            "      12321      \n",
            "     1234321     \n",
            "    123454321    \n",
            "   12345654321   \n",
            "  1234567654321  \n",
            " 123456787654321 \n",
            "12345678987654321\n"
          ]
        }
      ]
    },
    {
      "cell_type": "markdown",
      "metadata": {
        "id": "HCGSbDOfEgC8"
      },
      "source": [
        "## Задание 5\n",
        "Дополните код из предыдущего задания, чтобы теперь получался ромб. То есть количество ступеней должно равняться числу n*2-1."
      ]
    },
    {
      "cell_type": "code",
      "metadata": {
        "colab": {
          "base_uri": "https://localhost:8080/"
        },
        "id": "nl5JB1Wp_e1C",
        "outputId": "8e67c470-b422-4a52-c4a7-7c068fe3de42"
      },
      "source": [
        "n = int(input())\n",
        "s = ''\n",
        "s_sum = ''\n",
        "for i in range(1, n+1):\n",
        "  s += str(i)\n",
        "  s_sum += ' ' * (n - i) + s[:-1] + s[::-1] + ' ' * (n - i) + '\\n'\n",
        "print(s_sum[:-n*2-1], end = '')\n",
        "print(s_sum[::-1], end = '')"
      ],
      "execution_count": null,
      "outputs": [
        {
          "output_type": "stream",
          "name": "stdout",
          "text": [
            "5\n",
            "    1    \n",
            "   121   \n",
            "  12321  \n",
            " 1234321 \n",
            "123454321\n",
            " 1234321 \n",
            "  12321  \n",
            "   121   \n",
            "    1    "
          ]
        }
      ]
    },
    {
      "cell_type": "code",
      "metadata": {
        "id": "rra3o2bMFoja"
      },
      "source": [
        ""
      ],
      "execution_count": null,
      "outputs": []
    },
    {
      "cell_type": "markdown",
      "metadata": {
        "id": "EpJ3WaqyNMjl"
      },
      "source": [
        "## Бонусное задание\n",
        "Бонусное задание будет поделено на 4 варианта. Для того, чтобы определить номер своего варианта, вам необходимо взглянуть на таблицу приведенную ниже. В ней перечислены буквы алфавита и соответствующие им номера вариантов, номеру вашего варианта соответствует первая буква вашего имени.\n",
        "Вариант Е-2."
      ]
    },
    {
      "cell_type": "code",
      "metadata": {
        "colab": {
          "base_uri": "https://localhost:8080/"
        },
        "id": "Xtw3q8TcNfOl",
        "outputId": "6f9ff4f5-a6f5-44c3-a99f-f0da87bb2e5f"
      },
      "source": [
        "n = int(input())\n",
        "s = ''\n",
        "rez = ''\n",
        "rez_inv = ''\n",
        "for i in range(1, n+1):\n",
        "  s += str(i)\n",
        "  rez += ' ' * n + s[::-1] + '\\n'\n",
        "  rez_inv += '\\n' + s[::-1] + ' ' * (n -i)\n",
        "print(rez[:-1])\n",
        "print(rez_inv[::-1])"
      ],
      "execution_count": null,
      "outputs": [
        {
          "output_type": "stream",
          "name": "stdout",
          "text": [
            "9\n",
            "         1\n",
            "         21\n",
            "         321\n",
            "         4321\n",
            "         54321\n",
            "         654321\n",
            "         7654321\n",
            "         87654321\n",
            "         987654321\n",
            "123456789\n",
            " 12345678\n",
            "  1234567\n",
            "   123456\n",
            "    12345\n",
            "     1234\n",
            "      123\n",
            "       12\n",
            "        1\n",
            "\n"
          ]
        }
      ]
    },
    {
      "cell_type": "markdown",
      "metadata": {
        "id": "B9IHtXhuS5SY"
      },
      "source": [
        "# Как не надо называть переменные"
      ]
    },
    {
      "cell_type": "code",
      "metadata": {
        "colab": {
          "base_uri": "https://localhost:8080/"
        },
        "id": "KQVza8WtOmAd",
        "outputId": "0beb2b37-67ef-4d56-d057-45600927501c"
      },
      "source": [
        "zero =  [\"  ***  \", \" *   * \", \"*     *\", \"*     *\", \"*     *\",\" *   * \",\"  ***  \"]\n",
        "one =   [\" * \", \"** \", \" * \", \" * \", \" * \", \" * \", \"***\"]\n",
        "two =   [\" *** \", \"*   *\", \"*  * \", \"  *  \", \" *   \", \"*    \", \"*****\"]\n",
        "three = [\" *** \", \"*   *\", \"    *\", \"  ** \", \"    *\", \"*   *\", \" *** \"]\n",
        "four =  [\"   *  \", \"  **  \", \" * *  \", \"*  *  \", \"******\", \"   *  \", \"   *  \"]\n",
        "five =  [\"*****\", \"*    \", \"*    \", \" *** \", \"    *\", \"    *\", \"**** \"]\n",
        "six =   [\"*    \", \"*    \", \"*    \", \"**** \", \"*   *\", \"*   *\", \"**** \"]\n",
        "seven = [\"*****\", \"    *\", \"   * \", \"  *  \", \" *   \", \"*    \", \"*    \"]\n",
        "eight = [\" *** \", \"*   *\", \"*   *\", \" *** \", \"*   *\", \"*   *\", \" *** \"]\n",
        "nine =  [\" ****\", \"*   *\", \"*   *\", \" ****\", \"    *\", \"    *\", \"    *\"]\n",
        "\n",
        "digits = [zero, one, two, three, four, five, six, seven, eight, nine]\n",
        "number = '0123456789'\n",
        "for row in range(7):\n",
        "    line = \"\"\n",
        "    for digit in number:\n",
        "        line += digits[int(digit)][row] + \" \"\n",
        "    print(line)"
      ],
      "execution_count": null,
      "outputs": [
        {
          "output_type": "stream",
          "name": "stdout",
          "text": [
            "  ***    *   ***   ***     *   ***** *     *****  ***   **** \n",
            " *   *  **  *   * *   *   **   *     *         * *   * *   * \n",
            "*     *  *  *  *      *  * *   *     *        *  *   * *   * \n",
            "*     *  *    *     **  *  *    ***  ****    *    ***   **** \n",
            "*     *  *   *        * ******     * *   *  *    *   *     * \n",
            " *   *   *  *     *   *    *       * *   * *     *   *     * \n",
            "  ***   *** *****  ***     *   ****  ****  *      ***      * \n"
          ]
        }
      ]
    },
    {
      "cell_type": "markdown",
      "metadata": {
        "id": "gjqlHmpRmYqz"
      },
      "source": [
        "# Строки. Задания"
      ]
    },
    {
      "cell_type": "markdown",
      "metadata": {
        "id": "c0EuExvHmjDs"
      },
      "source": [
        "## Задание 1\n",
        "Дана строка: Abraсadabra\n",
        "\n",
        "Требуется:\n",
        "\n",
        "1.   Вывести третий символ этой строки.\n",
        "2.   Вывести предпоследний символ этой строки.\n",
        "3.   Вывести первые пять символов этой строки.\n",
        "4.   Вывести строку, кроме последних двух символов.\n",
        "5.   Вывести все символы с четными индексами (считайте, что 0 - четный индекс).\n",
        "6.   Вывести все символы с нечетными индексами.\n",
        "7.   Вывести все символы в обратном порядке.\n",
        "8.   Вывести все символы строки через один в обратном порядке, начиная с последнего.\n",
        "9.   Вывести длину данной строки."
      ]
    },
    {
      "cell_type": "code",
      "metadata": {
        "id": "NXiv61HPS-wL"
      },
      "source": [
        "s = 'Abraсadabra'"
      ],
      "execution_count": null,
      "outputs": []
    },
    {
      "cell_type": "code",
      "metadata": {
        "colab": {
          "base_uri": "https://localhost:8080/",
          "height": 35
        },
        "id": "bUq_tIYinKs6",
        "outputId": "8133dc32-e1e7-472a-eba8-949eae5a647a"
      },
      "source": [
        "s[2]"
      ],
      "execution_count": null,
      "outputs": [
        {
          "output_type": "execute_result",
          "data": {
            "application/vnd.google.colaboratory.intrinsic+json": {
              "type": "string"
            },
            "text/plain": [
              "'r'"
            ]
          },
          "metadata": {},
          "execution_count": 9
        }
      ]
    },
    {
      "cell_type": "code",
      "metadata": {
        "colab": {
          "base_uri": "https://localhost:8080/",
          "height": 35
        },
        "id": "5L3jWInDnMnA",
        "outputId": "9d6e281f-2934-422e-bab5-408a714995f6"
      },
      "source": [
        "s[-2]"
      ],
      "execution_count": null,
      "outputs": [
        {
          "output_type": "execute_result",
          "data": {
            "application/vnd.google.colaboratory.intrinsic+json": {
              "type": "string"
            },
            "text/plain": [
              "'r'"
            ]
          },
          "metadata": {},
          "execution_count": 10
        }
      ]
    },
    {
      "cell_type": "code",
      "metadata": {
        "colab": {
          "base_uri": "https://localhost:8080/",
          "height": 35
        },
        "id": "0UuArlR-nPGw",
        "outputId": "14381bbb-b4af-4c9e-8ec7-61824273ddf9"
      },
      "source": [
        "s[:5]"
      ],
      "execution_count": null,
      "outputs": [
        {
          "output_type": "execute_result",
          "data": {
            "application/vnd.google.colaboratory.intrinsic+json": {
              "type": "string"
            },
            "text/plain": [
              "'Abraс'"
            ]
          },
          "metadata": {},
          "execution_count": 11
        }
      ]
    },
    {
      "cell_type": "code",
      "metadata": {
        "colab": {
          "base_uri": "https://localhost:8080/",
          "height": 35
        },
        "id": "s0ZsX-rNnRtv",
        "outputId": "b32de0ee-e974-439a-db2f-d7456a4881c9"
      },
      "source": [
        "s[:-2]"
      ],
      "execution_count": null,
      "outputs": [
        {
          "output_type": "execute_result",
          "data": {
            "application/vnd.google.colaboratory.intrinsic+json": {
              "type": "string"
            },
            "text/plain": [
              "'Abraсadab'"
            ]
          },
          "metadata": {},
          "execution_count": 12
        }
      ]
    },
    {
      "cell_type": "code",
      "metadata": {
        "colab": {
          "base_uri": "https://localhost:8080/"
        },
        "id": "BreY1jICn5Z-",
        "outputId": "04d79869-b81d-4e1e-b610-abc5b787b78f"
      },
      "source": [
        "for i in range(len(s)):\n",
        "  if i % 2 == 0:\n",
        "    print(s[i])"
      ],
      "execution_count": null,
      "outputs": [
        {
          "output_type": "stream",
          "name": "stdout",
          "text": [
            "A\n",
            "r\n",
            "с\n",
            "d\n",
            "b\n",
            "a\n"
          ]
        }
      ]
    },
    {
      "cell_type": "code",
      "metadata": {
        "colab": {
          "base_uri": "https://localhost:8080/"
        },
        "id": "87FY1WDuoqNz",
        "outputId": "fd82d256-2da2-4dac-b7ec-b62e302381f8"
      },
      "source": [
        "for i in range(len(s)):\n",
        "  if i % 2 != 0:\n",
        "    print(s[i])"
      ],
      "execution_count": null,
      "outputs": [
        {
          "output_type": "stream",
          "name": "stdout",
          "text": [
            "b\n",
            "a\n",
            "a\n",
            "a\n",
            "r\n"
          ]
        }
      ]
    },
    {
      "cell_type": "code",
      "metadata": {
        "colab": {
          "base_uri": "https://localhost:8080/",
          "height": 35
        },
        "id": "yyg6xmeroz5q",
        "outputId": "a8900c9b-4e0b-41fd-a065-132759f92faa"
      },
      "source": [
        "s[::-2]"
      ],
      "execution_count": null,
      "outputs": [
        {
          "output_type": "execute_result",
          "data": {
            "application/vnd.google.colaboratory.intrinsic+json": {
              "type": "string"
            },
            "text/plain": [
              "'abdсrA'"
            ]
          },
          "metadata": {},
          "execution_count": 15
        }
      ]
    },
    {
      "cell_type": "code",
      "metadata": {
        "colab": {
          "base_uri": "https://localhost:8080/"
        },
        "id": "qJfRpm2lo3wb",
        "outputId": "d2f19ce9-9a51-47d7-badf-cec09d9a0059"
      },
      "source": [
        "len(s)"
      ],
      "execution_count": null,
      "outputs": [
        {
          "output_type": "execute_result",
          "data": {
            "text/plain": [
              "11"
            ]
          },
          "metadata": {},
          "execution_count": 16
        }
      ]
    },
    {
      "cell_type": "markdown",
      "metadata": {
        "id": "tJIXaPJppyeN"
      },
      "source": [
        "## Задание 2\n",
        "Напишите код, который обрабатывает строковые данные и возвращает их с первыми заглавными буквами в каждом слове."
      ]
    },
    {
      "cell_type": "code",
      "metadata": {
        "colab": {
          "base_uri": "https://localhost:8080/"
        },
        "id": "QqnTf0VEpYMA",
        "outputId": "b1be1e98-f0e9-4d6e-cc04-081095fdbbfb"
      },
      "source": [
        "s = input().split()\n",
        "for i in s:\n",
        "  if i[0].isalpha():\n",
        "    print(i[0].upper() + i[1:], end=' ')\n",
        "  else:\n",
        "    print(i, end=' ')"
      ],
      "execution_count": null,
      "outputs": [
        {
          "output_type": "error",
          "ename": "KeyboardInterrupt",
          "evalue": "ignored",
          "traceback": [
            "\u001b[0;31m---------------------------------------------------------------------------\u001b[0m",
            "\u001b[0;31mKeyboardInterrupt\u001b[0m                         Traceback (most recent call last)",
            "\u001b[0;32m/usr/local/lib/python3.7/dist-packages/ipykernel/kernelbase.py\u001b[0m in \u001b[0;36m_input_request\u001b[0;34m(self, prompt, ident, parent, password)\u001b[0m\n\u001b[1;32m    728\u001b[0m             \u001b[0;32mtry\u001b[0m\u001b[0;34m:\u001b[0m\u001b[0;34m\u001b[0m\u001b[0;34m\u001b[0m\u001b[0m\n\u001b[0;32m--> 729\u001b[0;31m                 \u001b[0mident\u001b[0m\u001b[0;34m,\u001b[0m \u001b[0mreply\u001b[0m \u001b[0;34m=\u001b[0m \u001b[0mself\u001b[0m\u001b[0;34m.\u001b[0m\u001b[0msession\u001b[0m\u001b[0;34m.\u001b[0m\u001b[0mrecv\u001b[0m\u001b[0;34m(\u001b[0m\u001b[0mself\u001b[0m\u001b[0;34m.\u001b[0m\u001b[0mstdin_socket\u001b[0m\u001b[0;34m,\u001b[0m \u001b[0;36m0\u001b[0m\u001b[0;34m)\u001b[0m\u001b[0;34m\u001b[0m\u001b[0;34m\u001b[0m\u001b[0m\n\u001b[0m\u001b[1;32m    730\u001b[0m             \u001b[0;32mexcept\u001b[0m \u001b[0mException\u001b[0m\u001b[0;34m:\u001b[0m\u001b[0;34m\u001b[0m\u001b[0;34m\u001b[0m\u001b[0m\n",
            "\u001b[0;32m/usr/local/lib/python3.7/dist-packages/jupyter_client/session.py\u001b[0m in \u001b[0;36mrecv\u001b[0;34m(self, socket, mode, content, copy)\u001b[0m\n\u001b[1;32m    802\u001b[0m         \u001b[0;32mtry\u001b[0m\u001b[0;34m:\u001b[0m\u001b[0;34m\u001b[0m\u001b[0;34m\u001b[0m\u001b[0m\n\u001b[0;32m--> 803\u001b[0;31m             \u001b[0mmsg_list\u001b[0m \u001b[0;34m=\u001b[0m \u001b[0msocket\u001b[0m\u001b[0;34m.\u001b[0m\u001b[0mrecv_multipart\u001b[0m\u001b[0;34m(\u001b[0m\u001b[0mmode\u001b[0m\u001b[0;34m,\u001b[0m \u001b[0mcopy\u001b[0m\u001b[0;34m=\u001b[0m\u001b[0mcopy\u001b[0m\u001b[0;34m)\u001b[0m\u001b[0;34m\u001b[0m\u001b[0;34m\u001b[0m\u001b[0m\n\u001b[0m\u001b[1;32m    804\u001b[0m         \u001b[0;32mexcept\u001b[0m \u001b[0mzmq\u001b[0m\u001b[0;34m.\u001b[0m\u001b[0mZMQError\u001b[0m \u001b[0;32mas\u001b[0m \u001b[0me\u001b[0m\u001b[0;34m:\u001b[0m\u001b[0;34m\u001b[0m\u001b[0;34m\u001b[0m\u001b[0m\n",
            "\u001b[0;32m/usr/local/lib/python3.7/dist-packages/zmq/sugar/socket.py\u001b[0m in \u001b[0;36mrecv_multipart\u001b[0;34m(self, flags, copy, track)\u001b[0m\n\u001b[1;32m    624\u001b[0m         \"\"\"\n\u001b[0;32m--> 625\u001b[0;31m         \u001b[0mparts\u001b[0m \u001b[0;34m=\u001b[0m \u001b[0;34m[\u001b[0m\u001b[0mself\u001b[0m\u001b[0;34m.\u001b[0m\u001b[0mrecv\u001b[0m\u001b[0;34m(\u001b[0m\u001b[0mflags\u001b[0m\u001b[0;34m,\u001b[0m \u001b[0mcopy\u001b[0m\u001b[0;34m=\u001b[0m\u001b[0mcopy\u001b[0m\u001b[0;34m,\u001b[0m \u001b[0mtrack\u001b[0m\u001b[0;34m=\u001b[0m\u001b[0mtrack\u001b[0m\u001b[0;34m)\u001b[0m\u001b[0;34m]\u001b[0m\u001b[0;34m\u001b[0m\u001b[0;34m\u001b[0m\u001b[0m\n\u001b[0m\u001b[1;32m    626\u001b[0m         \u001b[0;31m# have first part already, only loop while more to receive\u001b[0m\u001b[0;34m\u001b[0m\u001b[0;34m\u001b[0m\u001b[0;34m\u001b[0m\u001b[0m\n",
            "\u001b[0;32mzmq/backend/cython/socket.pyx\u001b[0m in \u001b[0;36mzmq.backend.cython.socket.Socket.recv\u001b[0;34m()\u001b[0m\n",
            "\u001b[0;32mzmq/backend/cython/socket.pyx\u001b[0m in \u001b[0;36mzmq.backend.cython.socket.Socket.recv\u001b[0;34m()\u001b[0m\n",
            "\u001b[0;32mzmq/backend/cython/socket.pyx\u001b[0m in \u001b[0;36mzmq.backend.cython.socket._recv_copy\u001b[0;34m()\u001b[0m\n",
            "\u001b[0;32m/usr/local/lib/python3.7/dist-packages/zmq/backend/cython/checkrc.pxd\u001b[0m in \u001b[0;36mzmq.backend.cython.checkrc._check_rc\u001b[0;34m()\u001b[0m\n",
            "\u001b[0;31mKeyboardInterrupt\u001b[0m: ",
            "\nDuring handling of the above exception, another exception occurred:\n",
            "\u001b[0;31mKeyboardInterrupt\u001b[0m                         Traceback (most recent call last)",
            "\u001b[0;32m<ipython-input-17-d6b62aae0322>\u001b[0m in \u001b[0;36m<module>\u001b[0;34m()\u001b[0m\n\u001b[0;32m----> 1\u001b[0;31m \u001b[0ms\u001b[0m \u001b[0;34m=\u001b[0m \u001b[0minput\u001b[0m\u001b[0;34m(\u001b[0m\u001b[0;34m)\u001b[0m\u001b[0;34m.\u001b[0m\u001b[0msplit\u001b[0m\u001b[0;34m(\u001b[0m\u001b[0;34m)\u001b[0m\u001b[0;34m\u001b[0m\u001b[0;34m\u001b[0m\u001b[0m\n\u001b[0m\u001b[1;32m      2\u001b[0m \u001b[0;32mfor\u001b[0m \u001b[0mi\u001b[0m \u001b[0;32min\u001b[0m \u001b[0ms\u001b[0m\u001b[0;34m:\u001b[0m\u001b[0;34m\u001b[0m\u001b[0;34m\u001b[0m\u001b[0m\n\u001b[1;32m      3\u001b[0m   \u001b[0;32mif\u001b[0m \u001b[0mi\u001b[0m\u001b[0;34m[\u001b[0m\u001b[0;36m0\u001b[0m\u001b[0;34m]\u001b[0m\u001b[0;34m.\u001b[0m\u001b[0misalpha\u001b[0m\u001b[0;34m(\u001b[0m\u001b[0;34m)\u001b[0m\u001b[0;34m:\u001b[0m\u001b[0;34m\u001b[0m\u001b[0;34m\u001b[0m\u001b[0m\n\u001b[1;32m      4\u001b[0m     \u001b[0mprint\u001b[0m\u001b[0;34m(\u001b[0m\u001b[0mi\u001b[0m\u001b[0;34m[\u001b[0m\u001b[0;36m0\u001b[0m\u001b[0;34m]\u001b[0m\u001b[0;34m.\u001b[0m\u001b[0mupper\u001b[0m\u001b[0;34m(\u001b[0m\u001b[0;34m)\u001b[0m \u001b[0;34m+\u001b[0m \u001b[0mi\u001b[0m\u001b[0;34m[\u001b[0m\u001b[0;36m1\u001b[0m\u001b[0;34m:\u001b[0m\u001b[0;34m]\u001b[0m\u001b[0;34m,\u001b[0m \u001b[0mend\u001b[0m\u001b[0;34m=\u001b[0m\u001b[0;34m' '\u001b[0m\u001b[0;34m)\u001b[0m\u001b[0;34m\u001b[0m\u001b[0;34m\u001b[0m\u001b[0m\n\u001b[1;32m      5\u001b[0m   \u001b[0;32melse\u001b[0m\u001b[0;34m:\u001b[0m\u001b[0;34m\u001b[0m\u001b[0;34m\u001b[0m\u001b[0m\n",
            "\u001b[0;32m/usr/local/lib/python3.7/dist-packages/ipykernel/kernelbase.py\u001b[0m in \u001b[0;36mraw_input\u001b[0;34m(self, prompt)\u001b[0m\n\u001b[1;32m    702\u001b[0m             \u001b[0mself\u001b[0m\u001b[0;34m.\u001b[0m\u001b[0m_parent_ident\u001b[0m\u001b[0;34m,\u001b[0m\u001b[0;34m\u001b[0m\u001b[0;34m\u001b[0m\u001b[0m\n\u001b[1;32m    703\u001b[0m             \u001b[0mself\u001b[0m\u001b[0;34m.\u001b[0m\u001b[0m_parent_header\u001b[0m\u001b[0;34m,\u001b[0m\u001b[0;34m\u001b[0m\u001b[0;34m\u001b[0m\u001b[0m\n\u001b[0;32m--> 704\u001b[0;31m             \u001b[0mpassword\u001b[0m\u001b[0;34m=\u001b[0m\u001b[0;32mFalse\u001b[0m\u001b[0;34m,\u001b[0m\u001b[0;34m\u001b[0m\u001b[0;34m\u001b[0m\u001b[0m\n\u001b[0m\u001b[1;32m    705\u001b[0m         )\n\u001b[1;32m    706\u001b[0m \u001b[0;34m\u001b[0m\u001b[0m\n",
            "\u001b[0;32m/usr/local/lib/python3.7/dist-packages/ipykernel/kernelbase.py\u001b[0m in \u001b[0;36m_input_request\u001b[0;34m(self, prompt, ident, parent, password)\u001b[0m\n\u001b[1;32m    732\u001b[0m             \u001b[0;32mexcept\u001b[0m \u001b[0mKeyboardInterrupt\u001b[0m\u001b[0;34m:\u001b[0m\u001b[0;34m\u001b[0m\u001b[0;34m\u001b[0m\u001b[0m\n\u001b[1;32m    733\u001b[0m                 \u001b[0;31m# re-raise KeyboardInterrupt, to truncate traceback\u001b[0m\u001b[0;34m\u001b[0m\u001b[0;34m\u001b[0m\u001b[0;34m\u001b[0m\u001b[0m\n\u001b[0;32m--> 734\u001b[0;31m                 \u001b[0;32mraise\u001b[0m \u001b[0mKeyboardInterrupt\u001b[0m\u001b[0;34m\u001b[0m\u001b[0;34m\u001b[0m\u001b[0m\n\u001b[0m\u001b[1;32m    735\u001b[0m             \u001b[0;32melse\u001b[0m\u001b[0;34m:\u001b[0m\u001b[0;34m\u001b[0m\u001b[0;34m\u001b[0m\u001b[0m\n\u001b[1;32m    736\u001b[0m                 \u001b[0;32mbreak\u001b[0m\u001b[0;34m\u001b[0m\u001b[0;34m\u001b[0m\u001b[0m\n",
            "\u001b[0;31mKeyboardInterrupt\u001b[0m: "
          ]
        }
      ]
    },
    {
      "cell_type": "markdown",
      "metadata": {
        "id": "hM1hXOyJ8rsm"
      },
      "source": [
        "## Задание 3\n",
        "Пароль считается надежным, если его длина составляет не менее 12 символов, при этом он должен содержать хотя бы одну заглавную букву, хотя бы одну строчную букву, хотя бы одну цифру и хотя бы один спецсимвол. Напишите код, который обрабатывает строковые данные и выводит сообщение о том, надежен ли пароль или нет. В случае, если пароль не надежен, код должен выдавать рекомендации для усиления надежности пароля."
      ]
    },
    {
      "cell_type": "code",
      "metadata": {
        "id": "n9z6R1hrIwR2",
        "colab": {
          "base_uri": "https://localhost:8080/"
        },
        "outputId": "fed63766-71e5-46b6-a57d-ca115bf8ca80"
      },
      "source": [
        "num = '1234567890'\n",
        "big = 'ABCDEFGHIJKLMNOPQRSTUVWXYZ'\n",
        "little = 'abcdefghijklmnopqrstuvwxyz'\n",
        "simbols = '!@#$%^&*()-+'\n",
        "s = input()\n",
        "\n",
        "rez = ''\n",
        "\n",
        "for i in s:\n",
        "  if (i.isalnum() or simbols.find(i)) == -1:\n",
        "    rez += 'Mistake'\n",
        "    print(rez)\n",
        "    break\n",
        "\n",
        "for i in s:\n",
        "  big_bool = False\n",
        "  if big.find(i) != -1:\n",
        "    big_bool = True\n",
        "    break\n",
        "\n",
        "for i in s:\n",
        "  num_bool = False\n",
        "  if num.find(i) != -1:\n",
        "    num_bool = True\n",
        "    break\n",
        "\n",
        "for i in s:\n",
        "  little_bool = False\n",
        "  if little.find(i) != -1:\n",
        "    little_bool = True\n",
        "    break\n",
        "\n",
        "for i in s:\n",
        "  simbols_bool = False\n",
        "  if simbols.find(i) != -1:\n",
        "    simbols_bool = True\n",
        "    break\n",
        "\n",
        "if len(s) >= 12 and len(rez) == 0:\n",
        "  if not big_bool:\n",
        "    rez = 'Слабый пароль. Рекомендации: добавить 1 заглавную букву'\n",
        "  if not num_bool:\n",
        "    if len(rez) != 0:\n",
        "      rez += ', добавить одну цифру'\n",
        "    else:\n",
        "      rez = 'Слабый пароль. Рекомендации: добавить 1 цифру'\n",
        "  if not little_bool:\n",
        "    if len(rez) != 0:\n",
        "      rez += ', добавить 1 строчную букву'\n",
        "    else:\n",
        "      rez = 'Слабый пароль. Рекомендации: добавить 1 строчную букву'\n",
        "  if not simbols_bool:\n",
        "    if len(rez) != 0:\n",
        "      rez += ', добавить 1 спецзнак'\n",
        "    else:\n",
        "      rez = 'Слабый пароль. Рекомендации: добавить 1 спецзнак'\n",
        "elif len(s) < 12 and len(rez) == 0:\n",
        "  rez = 'Слабый пароль. Рекомендации: увеличить число символов - {}'.format(12 - len(s))\n",
        "  if not big_bool:\n",
        "    rez += ', добавить 1 заглавную букву'\n",
        "  if not num_bool:\n",
        "    rez += ', добавить 1 цифру'\n",
        "  if not little_bool:\n",
        "    rez += ', добавить 1 строчную букву'\n",
        "  if not simbols_bool:\n",
        "    rez += ', добавить 1 спецзнак'\n",
        "\n",
        "if len(rez) ==0:\n",
        "  print('Сильный пароль.')\n",
        "else:\n",
        "  print(rez)"
      ],
      "execution_count": 64,
      "outputs": [
        {
          "output_type": "stream",
          "name": "stdout",
          "text": [
            "hgdkhsjh\n",
            "Слабый пароль. Рекомендации: увеличить число символов - 4, добавить 1 заглавную букву, добавить 1 цифру, добавить 1 спецзнак\n"
          ]
        }
      ]
    },
    {
      "cell_type": "markdown",
      "metadata": {
        "id": "paCCTr7EZO_C"
      },
      "source": [
        "# Списки. Задания"
      ]
    },
    {
      "cell_type": "markdown",
      "metadata": {
        "id": "enGVaWf9ZlC8"
      },
      "source": [
        "## Задание 1\n",
        "Задан список с числами. Напишите программу, которая выводит все элементы списка с четными индексами в виде нового списка."
      ]
    },
    {
      "cell_type": "code",
      "metadata": {
        "colab": {
          "base_uri": "https://localhost:8080/"
        },
        "id": "0qLyv3upyCW6",
        "outputId": "46efa767-d8d7-4db4-ecdc-3056955b9e5b"
      },
      "source": [
        "l = [1, 2, 3, 4, 5]\n",
        "rez = [l[i] for i in range(len(l)) if i % 2 == 0]\n",
        "print(rez)"
      ],
      "execution_count": null,
      "outputs": [
        {
          "output_type": "stream",
          "name": "stdout",
          "text": [
            "[1, 3, 5]\n"
          ]
        }
      ]
    },
    {
      "cell_type": "markdown",
      "metadata": {
        "id": "BVugArK9aRfE"
      },
      "source": [
        "## Задание 2\n",
        "Задан список с числами. Напишите программу, которая выводит все элементы списка, которые больше предыдущего, в виде отдельного списка."
      ]
    },
    {
      "cell_type": "code",
      "metadata": {
        "id": "n_KEq2KPZ47w",
        "colab": {
          "base_uri": "https://localhost:8080/"
        },
        "outputId": "ea5c4855-3e64-452f-eb73-6de744723727"
      },
      "source": [
        "l = [1, 2, 3, 4, 5]\n",
        "rez = [l[i] for i in range(1, len(l)) if l[i] > l[i-1]]\n",
        "print(rez)"
      ],
      "execution_count": null,
      "outputs": [
        {
          "output_type": "stream",
          "name": "stdout",
          "text": [
            "[2, 3, 4, 5]\n"
          ]
        }
      ]
    },
    {
      "cell_type": "markdown",
      "metadata": {
        "id": "JSNYRGGZasH5"
      },
      "source": [
        "## Задание 3\n",
        "Задан список с числами. Напишите программу, которая меняет местами наибольший и наименьший элемент и выводит новый список."
      ]
    },
    {
      "cell_type": "code",
      "metadata": {
        "id": "Zb0XxN8ZakKG",
        "colab": {
          "base_uri": "https://localhost:8080/"
        },
        "outputId": "1eb1f6fc-f156-4b9d-aa4c-aee50c2c155f"
      },
      "source": [
        "l = [1, 2, 3, 4, 5, 6, 7]\n",
        "l_new = l.copy()\n",
        "l_new[l.index(max(l))], l_new[l.index(min(l))] = min(l), max(l)\n",
        "l_new"
      ],
      "execution_count": null,
      "outputs": [
        {
          "output_type": "execute_result",
          "data": {
            "text/plain": [
              "[7, 2, 3, 4, 5, 6, 1]"
            ]
          },
          "metadata": {},
          "execution_count": 21
        }
      ]
    },
    {
      "cell_type": "markdown",
      "metadata": {
        "id": "qtkrjv1KfR7d"
      },
      "source": [
        "# Словари. Задания"
      ]
    },
    {
      "cell_type": "markdown",
      "metadata": {
        "id": "dxLo36WLfcaL"
      },
      "source": [
        "## Задание 1\n",
        "Задан словарь. Напишите программу, которая будет выводить значение по заданному ключу."
      ]
    },
    {
      "cell_type": "code",
      "metadata": {
        "id": "YDez7BTSa5rk",
        "colab": {
          "base_uri": "https://localhost:8080/",
          "height": 52
        },
        "outputId": "68cd6ed3-3c3c-4ca9-ae7e-d51ff39f9fb8"
      },
      "source": [
        "d = {'Hello' : 'Hi', 'Bye' : 'Goodbye', 'List' : 'Array'}\n",
        "key = input()\n",
        "d[key]"
      ],
      "execution_count": null,
      "outputs": [
        {
          "name": "stdout",
          "output_type": "stream",
          "text": [
            "Hello\n"
          ]
        },
        {
          "output_type": "execute_result",
          "data": {
            "application/vnd.google.colaboratory.intrinsic+json": {
              "type": "string"
            },
            "text/plain": [
              "'Hi'"
            ]
          },
          "metadata": {},
          "execution_count": 22
        }
      ]
    },
    {
      "cell_type": "markdown",
      "metadata": {
        "id": "1txQqo6Lfzee"
      },
      "source": [
        "## Задание 2\n",
        "Напишите программу, которая будет выполнять действие, обратное заданию 1. Программа должна производить поиск по значению и выдавать ключ."
      ]
    },
    {
      "cell_type": "code",
      "metadata": {
        "id": "EnJdBoryfuW-",
        "colab": {
          "base_uri": "https://localhost:8080/"
        },
        "outputId": "c7e2224b-bbe6-4856-d247-f61598b02922"
      },
      "source": [
        "d = {'Hello' : 'Hi', 'Bye' : 'Goodbye', 'List' : 'Array'}\n",
        "value = input()\n",
        "for i in d.items():\n",
        "  if value == str(i[1]):\n",
        "    print(i[0])"
      ],
      "execution_count": null,
      "outputs": [
        {
          "output_type": "stream",
          "name": "stdout",
          "text": [
            "Hi\n",
            "Hello\n"
          ]
        }
      ]
    },
    {
      "cell_type": "markdown",
      "metadata": {
        "id": "YQT84N2UhWp8"
      },
      "source": [
        "## Задание 3\n",
        "Напишите программу, которая принимает список строк и выводит количество повторений данных строк в списке."
      ]
    },
    {
      "cell_type": "code",
      "metadata": {
        "id": "2GyMU-SLgr-H",
        "colab": {
          "base_uri": "https://localhost:8080/"
        },
        "outputId": "bd95fde2-706d-43b4-89a2-6eadcca55f88"
      },
      "source": [
        "l = ['abc', 'bcd', 'abc', 'abd', 'abd', 'dcd', 'abc']\n",
        "d = {a: l.count(a) for a in l}\n",
        "for i in d.values():\n",
        "  print(i, end=' ')"
      ],
      "execution_count": null,
      "outputs": [
        {
          "output_type": "stream",
          "name": "stdout",
          "text": [
            "3 1 2 1 "
          ]
        }
      ]
    },
    {
      "cell_type": "markdown",
      "metadata": {
        "id": "orssN2d0kdFR"
      },
      "source": [
        "# Множества. Задания"
      ]
    },
    {
      "cell_type": "markdown",
      "metadata": {
        "id": "7-f7XGnNklvY"
      },
      "source": [
        "## Задание 1\n",
        "Дан список чисел. Напишите программу, которая определяет, сколько в нем встречается различных чисел, используя множества."
      ]
    },
    {
      "cell_type": "code",
      "metadata": {
        "id": "BNtpT9gaiN1t",
        "colab": {
          "base_uri": "https://localhost:8080/"
        },
        "outputId": "5eed40f7-1bc7-4fa2-b5b5-df7a8554f3bd"
      },
      "source": [
        "l = [1, 2, 3, 2, 1]\n",
        "len(set(l))"
      ],
      "execution_count": null,
      "outputs": [
        {
          "output_type": "execute_result",
          "data": {
            "text/plain": [
              "3"
            ]
          },
          "metadata": {},
          "execution_count": 51
        }
      ]
    },
    {
      "cell_type": "markdown",
      "metadata": {
        "id": "mUkaxuxtk20a"
      },
      "source": [
        "## Задание 2\n",
        "Даны два списка чисел. Напишите программу, которая определяет, сколько в них встречается общих чисел, используя множества."
      ]
    },
    {
      "cell_type": "code",
      "metadata": {
        "id": "QVYhNypKkwwK",
        "colab": {
          "base_uri": "https://localhost:8080/"
        },
        "outputId": "5ffe653a-5d80-4a0c-c75b-bd8cd9dc01f9"
      },
      "source": [
        "l_1 = [1, 2, 3]\n",
        "l_2 = [1, 4, 5]\n",
        "len(set(l_1).intersection(set(l_2)))"
      ],
      "execution_count": null,
      "outputs": [
        {
          "output_type": "execute_result",
          "data": {
            "text/plain": [
              "1"
            ]
          },
          "metadata": {},
          "execution_count": 55
        }
      ]
    },
    {
      "cell_type": "markdown",
      "metadata": {
        "id": "HDM1eSJclr2I"
      },
      "source": [
        "## Задание 3\n",
        "Даны два множества чисел. Напишите программу, которая определяет, является ли первое множество подмножеством второго. Множество является подмножеством другого множества, если все данные первого совпадают с частью данных из второго. Если множества совпадают, они не являются подмножествами друг друга."
      ]
    },
    {
      "cell_type": "code",
      "metadata": {
        "id": "lgJ18q57lUGh",
        "colab": {
          "base_uri": "https://localhost:8080/"
        },
        "outputId": "36e1e4b5-c9a4-4ec8-f611-7c5447b6c8c7"
      },
      "source": [
        "set_1 = {1, 10, 223, 413, 2}\n",
        "set_2 = {1, 10, 223, 413, 2}\n",
        "if set_1 == set_2:\n",
        "  print(False)\n",
        "else:\n",
        "  print(set_1.issubset(set_2))\n"
      ],
      "execution_count": null,
      "outputs": [
        {
          "output_type": "stream",
          "name": "stdout",
          "text": [
            "False\n"
          ]
        }
      ]
    },
    {
      "cell_type": "markdown",
      "metadata": {
        "id": "FXOgCnW-zSM7"
      },
      "source": [
        "# Функции. Задачи."
      ]
    },
    {
      "cell_type": "markdown",
      "metadata": {
        "id": "wfCHCuoX2cb6"
      },
      "source": [
        "## Задание 1\n",
        "Напишите программу, которая принимает арифметическое выражение в качестве аргумента и выводит результат этого выражения."
      ]
    },
    {
      "cell_type": "code",
      "metadata": {
        "colab": {
          "base_uri": "https://localhost:8080/"
        },
        "id": "sI6c8i592gtD",
        "outputId": "6fd25039-bc2f-493f-e9d2-8b001782a2ca"
      },
      "source": [
        "ex = '9**3'\n",
        "\n",
        "def solve(exerc):\n",
        "  x, y, oper = '', '', ''\n",
        "\n",
        "  for i in exerc:\n",
        "    if i.isdigit():\n",
        "      if len(oper) == 0:\n",
        "        x += i\n",
        "      else:\n",
        "        y += i\n",
        "    else:\n",
        "      oper += i\n",
        "\n",
        "  x = int(x)\n",
        "  if len(y) != 0:\n",
        "    y = int(y)\n",
        "  else:\n",
        "    y = 0 \n",
        "\n",
        "  if oper in ('+', '-', '*', '/'):\n",
        "    if oper == '+':\n",
        "      return x + y\n",
        "    elif oper == '-':\n",
        "      return x - y\n",
        "    elif oper == '*':\n",
        "      return x * y\n",
        "    else:\n",
        "      if y != 0:\n",
        "        return x / y\n",
        "      else:\n",
        "        return 'Деление на 0!'\n",
        "  elif oper == '%':\n",
        "    return x / 100\n",
        "  else:\n",
        "    if y != 0:\n",
        "      return x ** y\n",
        "    else:\n",
        "      return x ** 2\n",
        "\n",
        "solve(ex)\n"
      ],
      "execution_count": null,
      "outputs": [
        {
          "output_type": "execute_result",
          "data": {
            "text/plain": [
              "729"
            ]
          },
          "metadata": {},
          "execution_count": 53
        }
      ]
    },
    {
      "cell_type": "code",
      "metadata": {
        "id": "gzmbqTOU38gw"
      },
      "source": [
        ""
      ],
      "execution_count": null,
      "outputs": []
    },
    {
      "cell_type": "markdown",
      "metadata": {
        "id": "u4u3fiBNKUEX"
      },
      "source": [
        "# Работа с файлами. Задание."
      ]
    },
    {
      "cell_type": "code",
      "metadata": {
        "id": "WbnPdNs4Qby2"
      },
      "source": [
        "def email_gen(list_of_names):\n",
        "    emails = []\n",
        "    for i in list_of_names:\n",
        "        letter = 1\n",
        "        while i[1] + '.' + i[0][0:letter] + '@company.io' in emails:\n",
        "            letter+=1\n",
        "        emails.append(i[1] + '.' + i[0][0:letter] + '@company.io')\n",
        "    return emails"
      ],
      "execution_count": 23,
      "outputs": []
    },
    {
      "cell_type": "markdown",
      "metadata": {
        "id": "Q375uoOhUF6N"
      },
      "source": [
        "Модуль, который не меняет файл, а выводит только строки. Нужен для отладки."
      ]
    },
    {
      "cell_type": "code",
      "metadata": {
        "id": "gpZcXnlpKX6a"
      },
      "source": [
        "with open('task_file.txt', 'r+') as f:\n",
        "  for line in f.read().splitlines()[1:]:\n",
        "    line_sp = line.split(', ')\n",
        "    name_check = len(line_sp[1]) != 0 and line_sp[1].isalpha()\n",
        "    secname_check = name_check = len(line_sp[2]) != 0 and line_sp[2].isalpha()\n",
        "    check_city = name_check = len(line_sp[4]) != 0 and line_sp[4].isalpha()\n",
        "    check_num = len(line_sp[3]) == 7 and line_sp[3].isdigit()\n",
        "    if name_check and secname_check and check_city and check_num: \n",
        "      name = [line_sp[1:3]]\n",
        "      email = email_gen(name)\n",
        "      line = line.replace(line, email[0] + line + '\\n')\n",
        "    # print(line)"
      ],
      "execution_count": 75,
      "outputs": []
    },
    {
      "cell_type": "markdown",
      "metadata": {
        "id": "tKIUrpGCUNMm"
      },
      "source": [
        "Готовая программа."
      ]
    },
    {
      "cell_type": "code",
      "metadata": {
        "id": "j4jE4WfqKZAa"
      },
      "source": [
        "with open('task_file.txt', 'r') as f:\n",
        "  file = f.read().splitlines()\n",
        "with open('task_file.txt', 'w') as f:\n",
        "  f.write(file[0] + '\\n')\n",
        "  for line in file[1:]:\n",
        "    line_sp = line.split(', ')\n",
        "    name_check = len(line_sp[1]) != 0 and line_sp[1].isalpha()\n",
        "    secname_check = name_check = len(line_sp[2]) != 0 and line_sp[2].isalpha()\n",
        "    check_city = name_check = len(line_sp[4]) != 0 and line_sp[4].isalpha()\n",
        "    check_num = len(line_sp[3]) == 7 and line_sp[3].isdigit()\n",
        "    if name_check and secname_check and check_city and check_num: \n",
        "      name = [line_sp[1:3]]\n",
        "      email = email_gen(name)\n",
        "      line = line.replace(line, email[0] + line)\n",
        "    f.write(line + '\\n')"
      ],
      "execution_count": 76,
      "outputs": []
    },
    {
      "cell_type": "markdown",
      "metadata": {
        "id": "4HLF4nJ7Y7Lt"
      },
      "source": [
        "# Подключение модулей. Задания."
      ]
    },
    {
      "cell_type": "markdown",
      "metadata": {
        "id": "aF9lItPeZBiZ"
      },
      "source": [
        "## Задание 1\n",
        "В заданиях к разделу \"Строки\" одна из задач состояла в написании программы, проверяющей надежность пароля. В данном упражнении вам необходимо написать функцию, которая будет генерировать тот самый надежный пароль случайным образом. Модуль random как раз поможет вам в этом. Давайте вспомним когда пароль считается надежным:\n",
        "\n",
        "1) Пароль содержит не менее 12 символов\n",
        "\n",
        "2) Пароль содержит хотя бы одну заглавную букву\n",
        "\n",
        "3) Пароль содержит хотя бы одну строчную букву\n",
        "\n",
        "4) Пароль содержит хотя бы одну цифру\n",
        "\n",
        "5) Пароль содержит хотя бы один спецсимвол"
      ]
    },
    {
      "cell_type": "code",
      "metadata": {
        "id": "tWNdniDmONzZ",
        "outputId": "795abeb6-c1e9-461c-b888-d220f09af8e9",
        "colab": {
          "base_uri": "https://localhost:8080/"
        }
      },
      "source": [
        "import random\n",
        "\n",
        "# n = int(input())\n",
        "n = 12\n",
        "\n",
        "num = '1234567890'\n",
        "big = 'ABCDEFGHIJKLMNOPQRSTUVWXYZ'\n",
        "little = 'abcdefghijklmnopqrstuvwxyz'\n",
        "symbpls = '!@#$%^&*()-+'\n",
        "\n",
        "s = ''\n",
        "for i in range(random.randint(1, n - 3)):\n",
        "  print(i)\n",
        "  s += random.choice(little)\n",
        "\n",
        "for i in range(random.randint(1, n - len(s) - 2)):\n",
        "  # print(random.randint(1, n - len(s) - 2))\n",
        "  s += random.choice(big)\n",
        "\n",
        "for i in range(random.randint(1, n - len(s) - 1)):\n",
        "  # print(random.randint(1, n - len(s) - 1))\n",
        "  s += random.choice(num)\n",
        "\n",
        "for i in range(n - len(s)):\n",
        "  s += random.choice(symbpls)\n",
        "\n",
        "\n",
        "\n",
        "print(s, len(s))\n",
        "\n",
        "\n"
      ],
      "execution_count": 177,
      "outputs": [
        {
          "output_type": "stream",
          "name": "stdout",
          "text": [
            "0\n",
            "1\n",
            "2\n",
            "mmyUS810@$$& 12\n"
          ]
        }
      ]
    },
    {
      "cell_type": "markdown",
      "metadata": {
        "id": "_5dZrdhkdfU5"
      },
      "source": [
        "Сохдали функцию для проверки качества пароля."
      ]
    },
    {
      "cell_type": "code",
      "metadata": {
        "id": "Rq9wQ6MrdKGx"
      },
      "source": [
        "def check_password(s):\n",
        "  num = '1234567890'\n",
        "  big = 'ABCDEFGHIJKLMNOPQRSTUVWXYZ'\n",
        "  little = 'abcdefghijklmnopqrstuvwxyz'\n",
        "  simbols = '!@#$%^&*()-+'\n",
        "\n",
        "  rez = ''\n",
        "\n",
        "  for i in s:\n",
        "    if (i.isalnum() or simbols.find(i)) == -1:\n",
        "      rez += 'Mistake'\n",
        "      print(rez)\n",
        "      break\n",
        "\n",
        "  for i in s:\n",
        "    big_bool = False\n",
        "    if big.find(i) != -1:\n",
        "      big_bool = True\n",
        "      break\n",
        "\n",
        "  for i in s:\n",
        "    num_bool = False\n",
        "    if num.find(i) != -1:\n",
        "      num_bool = True\n",
        "      break\n",
        "\n",
        "  for i in s:\n",
        "    little_bool = False\n",
        "    if little.find(i) != -1:\n",
        "      little_bool = True\n",
        "      break\n",
        "\n",
        "  for i in s:\n",
        "    simbols_bool = False\n",
        "    if simbols.find(i) != -1:\n",
        "      simbols_bool = True\n",
        "      break\n",
        "\n",
        "  if len(s) >= 12 and len(rez) == 0:\n",
        "    if not big_bool:\n",
        "      rez = 'Слабый пароль. Рекомендации: добавить 1 заглавную букву'\n",
        "    if not num_bool:\n",
        "      if len(rez) != 0:\n",
        "        rez += ', добавить одну цифру'\n",
        "      else:\n",
        "        rez = 'Слабый пароль. Рекомендации: добавить 1 цифру'\n",
        "    if not little_bool:\n",
        "      if len(rez) != 0:\n",
        "        rez += ', добавить 1 строчную букву'\n",
        "      else:\n",
        "        rez = 'Слабый пароль. Рекомендации: добавить 1 строчную букву'\n",
        "    if not simbols_bool:\n",
        "      if len(rez) != 0:\n",
        "        rez += ', добавить 1 спецзнак'\n",
        "      else:\n",
        "        rez = 'Слабый пароль. Рекомендации: добавить 1 спецзнак'\n",
        "  elif len(s) < 12 and len(rez) == 0:\n",
        "    rez = 'Слабый пароль. Рекомендации: увеличить число символов - {}'.format(12 - len(s))\n",
        "    if not big_bool:\n",
        "      rez += ', добавить 1 заглавную букву'\n",
        "    if not num_bool:\n",
        "      rez += ', добавить 1 цифру'\n",
        "    if not little_bool:\n",
        "      rez += ', добавить 1 строчную букву'\n",
        "    if not simbols_bool:\n",
        "      rez += ', добавить 1 спецзнак'\n",
        "\n",
        "  if len(rez) ==0:\n",
        "    print('Сильный пароль.', 'password:', s, sep=' ')\n",
        "  else:\n",
        "    print(rez, 'password:', s, sep=' ')"
      ],
      "execution_count": 158,
      "outputs": []
    },
    {
      "cell_type": "markdown",
      "metadata": {
        "id": "357AkIOudktW"
      },
      "source": [
        "Создали функцию для генерации случайного пароля по заданному числу символов."
      ]
    },
    {
      "cell_type": "code",
      "metadata": {
        "id": "JJnlzbI3dsvs"
      },
      "source": [
        "def password(n):\n",
        "  import random\n",
        "\n",
        "  num = '1234567890'\n",
        "  big = 'ABCDEFGHIJKLMNOPQRSTUVWXYZ'\n",
        "  little = 'abcdefghijklmnopqrstuvwxyz'\n",
        "  symbpls = '!@#$%^&*()-+'\n",
        "\n",
        "  s = ''\n",
        "  for i in range(random.randint(1, n - 3)):\n",
        "    s += random.choice(little)\n",
        "\n",
        "  for i in range(random.randint(1, n - len(s) - 2)):\n",
        "    s += random.choice(big)\n",
        "\n",
        "  for i in range(random.randint(1, n - len(s) - 1)):\n",
        "    s += random.choice(num)\n",
        "\n",
        "  for i in range(n - len(s)):\n",
        "    s += random.choice(symbpls)\n",
        "  return s"
      ],
      "execution_count": 180,
      "outputs": []
    },
    {
      "cell_type": "code",
      "metadata": {
        "id": "Mh0bujNJZvTW",
        "outputId": "129e3c3f-6b72-4c1a-9608-31449daa4d91",
        "colab": {
          "base_uri": "https://localhost:8080/"
        }
      },
      "source": [
        "n = int(input())\n",
        "check_password(password(n))"
      ],
      "execution_count": 183,
      "outputs": [
        {
          "output_type": "stream",
          "name": "stdout",
          "text": [
            "12\n",
            "Сильный пароль. password: rreejmVXSH5+\n"
          ]
        }
      ]
    },
    {
      "cell_type": "markdown",
      "metadata": {
        "id": "KAJjOh8TxdXj"
      },
      "source": [
        "# Итоговый проект."
      ]
    },
    {
      "cell_type": "code",
      "metadata": {
        "id": "XRavkHTDxi5f"
      },
      "source": [
        "import re\n",
        "with open('task_file.txt', 'r+') as f:\n",
        "  pat = r'^,\\s[ABCDEFGHIJKLMNOPQRSTUVWXYZ][abcdefghijklmnopqrstuvwxyz]+,\\s[ABCDEFGHIJKLMNOPQRSTUVWXYZ][abcdefghijklmnopqrstuvwxyz]+,\\s\\d{7,7},\\s[ABCDEFGHIJKLMNOPQRSTUVWXYZ][abcdefghijklmnopqrstuvwxyz]+$'\n",
        "  for line in f.read().splitlines()[1:]:\n",
        "    pat_name = r'[ABCDEFGHIJKLMNOPQRSTUVWXYZ][abcdefghijklmnopqrstuvwxyz]+'\n",
        "    if re.search(pat, line):\n",
        "      name = [re.findall(pat_name, line)[:2]]\n",
        "      email = email_gen(name)\n",
        "      pas = password(12)\n",
        "      line = line.replace(line, email[0] + line + ', ' + pas)\n",
        "      # print(line)\n",
        "    # else:\n",
        "      # print('Error')\n",
        "      # line = \n",
        "      # print(line)"
      ],
      "execution_count": 135,
      "outputs": []
    },
    {
      "cell_type": "markdown",
      "metadata": {
        "id": "Bo8vWxEDJD3U"
      },
      "source": [
        "Итоговая программа."
      ]
    },
    {
      "cell_type": "code",
      "metadata": {
        "id": "XwhwDl6exmAo"
      },
      "source": [
        "with open('task_file.txt', 'r') as f:\n",
        "  file = f.read().splitlines()\n",
        "with open('task_file.txt', 'w') as f, open('error_file.txt', 'w') as f_er:\n",
        "  zag = r'[ABCDEFGHIJKLMNOPQRSTUVWXYZ_]+'\n",
        "  hat = re.findall(zag, file[0])\n",
        "  hat.insert(1, 'Password')\n",
        "  f.write(', '.join(hat) + '\\n')\n",
        "  pat = r'^,\\s[ABCDEFGHIJKLMNOPQRSTUVWXYZ][abcdefghijklmnopqrstuvwxyz]+,\\s[ABCDEFGHIJKLMNOPQRSTUVWXYZ][abcdefghijklmnopqrstuvwxyz]+,\\s\\d{7,7},\\s[ABCDEFGHIJKLMNOPQRSTUVWXYZ][abcdefghijklmnopqrstuvwxyz]+$'\n",
        "  pat_name = r'[ABCDEFGHIJKLMNOPQRSTUVWXYZ][abcdefghijklmnopqrstuvwxyz]+'\n",
        "  for line in file[1:]:\n",
        "    if re.search(pat, line):\n",
        "      name = [re.findall(pat_name, line)[:2]]\n",
        "      email = email_gen(name)\n",
        "      pas = password(12)\n",
        "      line = line.replace(line, email[0] + ', ' + pas + line)\n",
        "      # print(line)\n",
        "      f.write(line + '\\n')\n",
        "    else:\n",
        "      f_er.write(line + '\\n')\n"
      ],
      "execution_count": 211,
      "outputs": []
    },
    {
      "cell_type": "code",
      "metadata": {
        "id": "aFvn1iGuGkoC"
      },
      "source": [
        ""
      ],
      "execution_count": null,
      "outputs": []
    }
  ]
}